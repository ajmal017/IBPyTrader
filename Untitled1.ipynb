{
 "cells": [
  {
   "cell_type": "code",
   "execution_count": 1,
   "metadata": {},
   "outputs": [
    {
     "name": "stderr",
     "output_type": "stream",
     "text": [
      "D:\\MachineLearning\\Anaconda\\lib\\site-packages\\ipykernel\\parentpoller.py:116: UserWarning: Parent poll failed.  If the frontend dies,\n",
      "                the kernel may be left running.  Please let us know\n",
      "                about your system (bitness, Python, etc.) at\n",
      "                ipython-dev@scipy.org\n",
      "  ipython-dev@scipy.org\"\"\")\n"
     ]
    }
   ],
   "source": [
    "import pandas as pd\n",
    "\n",
    "from ib_insync import *\n",
    "\n",
    "from  configuration.ibtrader_functions import *\n",
    "from  configuration.ibtrader_settings import * \n",
    "from  configuration.ibtrader_stocks import * \n",
    "import matplotlib.dates as mpl_dates\n",
    "import pandas_ta as ta\n"
   ]
  },
  {
   "cell_type": "code",
   "execution_count": 140,
   "metadata": {},
   "outputs": [
    {
     "name": "stdout",
     "output_type": "stream",
     "text": [
      "Not Empty\n",
      "6--1-25-25.0\n",
      "Not Empty\n",
      "Not Empty\n",
      "25-25.0-77-77.0\n"
     ]
    }
   ],
   "source": [
    "lValleysPrice =[(6, 52.675), (25, 51.69), (77, 40.635)] #, (107, 50.575), (180, 63.38), (210, 66.34), (253, 68.56), (347, 70.895), (402, 81.33), (502, 73.33), (581, 86.04), (606, 88.86), (677, 93.9), (694, 104.7), (754, 109.12), (796, 101.05), \n",
    "#(806, 97.88), (1122, 120.69), (1157, 114.57), (1171, 138.41), (1199, 135.05)]\n",
    "lValleysIndicator = [(25, 0.5207119537876679), (77, 2.7135823679838964), (86, 0.1284881210425226)] # , (94, -0.07760316416054991), (145, 1.9949843309519508), (158, 1.371311215884397), (168, 1.1698002217656907), (175, 1.5542948033575357), (205, 1.3204868798451486), (240, 1.5701650920539265), (284, -0.09916171410233687), (300, 0.3039513852199889), (306, -0.005058099384456227), (313, 0.32189871686156835), (341, 1.2619458889995059), (363, 1.137775239827178), (381, 2.244825168166443), (399, 1.427955274864658), (426, 0.46521201660701195), (437, 1.4176317412525634), (456, -0.26632555508533073), (486, 0.5335642438878523), (516, 0.09980247256289942), (528, -0.06479814758660041), (550, 1.7767204347035914), (563, 1.4560286997897407), (573, 1.3727478708797776), (579, 1.421361965443964), (593, 0.6718478985595198), (604, 1.3315122198125948), (616, 1.7946821588702306), (637, 0.8014868094477379), (647, 1.606463104615429), (673, 1.471851720049088), (688, 3.884308636656016), (706, 1.4895944959255871), (716, 0.7358758334892457), (735, 1.4250808116085807), (742, 1.3832490298305373), (767, 1.2074605189922067), (776, 0.06769608399677907), (787, -0.24989235084485983), (821, 1.179173058727656), (838, 1.0524175044929507), (864, 1.311353966953945), (882, 0.5249225860635107), (922, 0.23967853630945513), (932, -0.144503398929416), (947, -1.3523579253241707), (969, 1.1787779856240377), \n",
    "# (977, 0.8875760161330817), (1061, 3.7116783721969853), (1094, 0.19328396769030576), (1118, 4.782660522523486), (1155, 3.286928882845146), (1191, 3.4071164161559864), (1206, 0.11010274213356297), (1220, 1.0856231460744823), (1241, 6.378330951146381)]\n",
    "\n",
    "rsidf_weekly =  dfWeekly.ta.rsi(length=14, append=True)\n",
    "\n",
    "dfValleysIndicator = pd.DataFrame(lValleysIndicator,columns=['TimeFrameImdex','Price'])\n",
    "dfValleysPrice = pd.DataFrame(lValleysPrice,columns=['TimeFrameImdex','Price'])\n",
    "# SOLO HASTA EL VALOR N-1\n",
    "for i in range(len(dfValleysPrice)-1):\n",
    "    \n",
    "        # COGEMOS EL PRIMER INDICE ENCONTRADO CON EL PICO DE LA RESISTENCIA\n",
    "        currentPriceValley        =  dfValleysPrice.iloc[i,1] # price \n",
    "        currentpriceValleyindex   =  dfValleysPrice.iloc[i,0] # TimeFrameImdex\n",
    "        # COGEMOS EL SIGIOEMTE  INDICE ENCONTRADO CON EL PICO DE LA RESISTENCIA\n",
    "        nextPriceValley            =  dfValleysPrice.iloc[i+1,1] # price \n",
    "        nextPriceValleyIndex       =  dfValleysPrice.iloc[i+1,0] # TimeFrameImdex\n",
    "        # VERIFICAMOS QUE AMOBS INDICES ESTEN EN EL DATAFRAME DEL INDICADOR , CON LO QUE PODRIA DAR UN DIVERGENCIA AL COINCIDIR AMBOS PUNTOS \n",
    "        currentIndicatorValleyindex = -1\n",
    "        currentIndicatorValleyPrice = -1\n",
    "        nextIndicatorValleyindex   = -1\n",
    "        nextIndicatorValleyPrice = -1\n",
    "\n",
    "       \n",
    "        dfIndicatorValleyindex = dfValleysIndicator.loc[dfValleysIndicator['TimeFrameImdex']==currentpriceValleyindex]\n",
    "        dfNextIndicatorValleyindex = dfValleysIndicator.loc[dfValleysIndicator['TimeFrameImdex']==nextPriceValleyIndex]\n",
    "        if not dfIndicatorValleyindex.empty:\n",
    "                print (\"Not Empty\")\n",
    "                currentIndicatorValleyindex = dfIndicatorValleyindex.values[0][0] # [\"TimeFrameImdex\"] \n",
    "                currentIndicatorValleyPrice = dfIndicatorValleyindex.values[0][1] # [\"Price\"]\n",
    "        if not dfNextIndicatorValleyindex.empty:\n",
    "                print (\"Not Empty\")\n",
    "                nextIndicatorValleyindex =  dfNextIndicatorValleyindex.values[0][0] # [\"TimeFrameImdex\"] \n",
    "                nextIndicatorValleyPrice  = dfNextIndicatorValleyindex.values[0][1] # [\"Price\"]\n",
    "        \n",
    "        #print (dfNextIndicatorValleyindex)\n",
    "        \n",
    "        print (str(currentpriceValleyindex) + \"-\" + str(currentIndicatorValleyindex) + \"-\" +  str(nextPriceValleyIndex)\n",
    "               + \"-\" + str(nextIndicatorValleyindex) )\n",
    "        #print (currentIndicatorValleyindex)\n",
    "        #print (nextPriceValleyIndex)\n",
    "        #print (nextIndicatorValleyindex)\n",
    "\n",
    "       \n",
    "        divergence_index = []\n",
    "        if (nextPriceValley <  currentPriceValley and  nextIndicatorValleyPrice > currentIndicatorValleyPrice and \n",
    "            currentpriceValleyindex == currentIndicatorValleyindex and  nextPriceValleyIndex == nextIndicatorValleyindex):\n",
    "                divergence_index.append(currentpriceValleyindex)\n",
    "                divergence_index.append(nextPriceValleyIndex)"
   ]
  },
  {
   "cell_type": "code",
   "execution_count": 141,
   "metadata": {},
   "outputs": [
    {
     "data": {
      "text/plain": [
       "[25, 77]"
      ]
     },
     "execution_count": 141,
     "metadata": {},
     "output_type": "execute_result"
    }
   ],
   "source": [
    "divergence_index"
   ]
  },
  {
   "cell_type": "code",
   "execution_count": 86,
   "metadata": {},
   "outputs": [
    {
     "data": {
      "text/html": [
       "<div>\n",
       "<style scoped>\n",
       "    .dataframe tbody tr th:only-of-type {\n",
       "        vertical-align: middle;\n",
       "    }\n",
       "\n",
       "    .dataframe tbody tr th {\n",
       "        vertical-align: top;\n",
       "    }\n",
       "\n",
       "    .dataframe thead th {\n",
       "        text-align: right;\n",
       "    }\n",
       "</style>\n",
       "<table border=\"1\" class=\"dataframe\">\n",
       "  <thead>\n",
       "    <tr style=\"text-align: right;\">\n",
       "      <th></th>\n",
       "      <th>TimeFrameImdex</th>\n",
       "      <th>Price</th>\n",
       "    </tr>\n",
       "  </thead>\n",
       "  <tbody>\n",
       "    <tr>\n",
       "      <th>1</th>\n",
       "      <td>6</td>\n",
       "      <td>1009</td>\n",
       "    </tr>\n",
       "  </tbody>\n",
       "</table>\n",
       "</div>"
      ],
      "text/plain": [
       "   TimeFrameImdex  Price\n",
       "1               6   1009"
      ]
     },
     "execution_count": 86,
     "metadata": {},
     "output_type": "execute_result"
    }
   ],
   "source": [
    "nexttIndicatorPeakindex"
   ]
  },
  {
   "cell_type": "code",
   "execution_count": 76,
   "metadata": {},
   "outputs": [
    {
     "name": "stdout",
     "output_type": "stream",
     "text": [
      "   TimeFrameImdex  Price\n",
      "0               5   1009\n",
      "   TimeFrameImdex  Price\n",
      "1               6   1009\n"
     ]
    },
    {
     "data": {
      "text/html": [
       "<div>\n",
       "<style scoped>\n",
       "    .dataframe tbody tr th:only-of-type {\n",
       "        vertical-align: middle;\n",
       "    }\n",
       "\n",
       "    .dataframe tbody tr th {\n",
       "        vertical-align: top;\n",
       "    }\n",
       "\n",
       "    .dataframe thead th {\n",
       "        text-align: right;\n",
       "    }\n",
       "</style>\n",
       "<table border=\"1\" class=\"dataframe\">\n",
       "  <thead>\n",
       "    <tr style=\"text-align: right;\">\n",
       "      <th></th>\n",
       "      <th>TimeFrameImdex</th>\n",
       "      <th>Price</th>\n",
       "    </tr>\n",
       "  </thead>\n",
       "  <tbody>\n",
       "    <tr>\n",
       "      <th>0</th>\n",
       "      <td>5</td>\n",
       "      <td>1009</td>\n",
       "    </tr>\n",
       "  </tbody>\n",
       "</table>\n",
       "</div>"
      ],
      "text/plain": [
       "   TimeFrameImdex  Price\n",
       "0               5   1009"
      ]
     },
     "execution_count": 76,
     "metadata": {},
     "output_type": "execute_result"
    }
   ],
   "source": [
    "\n",
    "dfPeaksIndicator.loc[dfPeaksIndicator['TimeFrameImdex'] == PricePeakindex]\n"
   ]
  },
  {
   "cell_type": "code",
   "execution_count": 53,
   "metadata": {},
   "outputs": [
    {
     "name": "stdout",
     "output_type": "stream",
     "text": [
      "   TimeFrameImdex  Price\n",
      "0               5   1009\n",
      "   TimeFrameImdex  Price\n",
      "0               5   1009\n",
      "   TimeFrameImdex  Price\n",
      "1               6   1009\n",
      "   TimeFrameImdex  Price\n",
      "1               6   1009\n"
     ]
    }
   ],
   "source": [
    "lPeaksPrice = [[5,1009],[6,1009]]\n",
    "lPeaksIndicator = [[5,1009],[6,1009]]\n",
    "   \n",
    "dfPeaksPrice = pd.DataFrame(lPeaksPrice,columns=['TimeFrameIndex','Price'])\n",
    "dfPeaksIndicator = pd.DataFrame(lPeaksIndicator,columns=['TimeFrameIndex','Price'])\n",
    "\n",
    "# SOLO HASTA EL VALOR N-1\n",
    "for i in range(len(dfPeaksPrice)):\n",
    "    \n",
    "    # COGEMOS EL PRIMER INDICE ENCONTRADO CON EL PICO DE LA RESISTENCIA\n",
    "    PricePeakindex=  dfPeaksPrice.iloc[i,\"TimeFrameIndex\"]\n",
    "    # COGEMOS EL SIGIOEMTE  INDICE ENCONTRADO CON EL PICO DE LA RESISTENCIA\n",
    "    PricePeakindex=  dfPeaksPrice.iloc[i+1,\"TimeFrameIndex\"]\n",
    "    \n",
    "    # VERIFICAMOS QUE AMOBS INDICES ESTEN EN EL DATAFRAME DEL INDICADOR  \n",
    "    print(dfPeaksIndicator.loc[dfPeaksIndicator['TimeFrameImdex']==PricePeakindex])\n",
    "    print(dfPeaksIndicator.loc[dfPeaksIndicator['TimeFrameImdex']==nexttPricePeak])\n",
    "\n",
    "    \n",
    "\n",
    "\n",
    "\n"
   ]
  },
  {
   "cell_type": "code",
   "execution_count": 36,
   "metadata": {},
   "outputs": [
    {
     "data": {
      "text/html": [
       "<div>\n",
       "<style scoped>\n",
       "    .dataframe tbody tr th:only-of-type {\n",
       "        vertical-align: middle;\n",
       "    }\n",
       "\n",
       "    .dataframe tbody tr th {\n",
       "        vertical-align: top;\n",
       "    }\n",
       "\n",
       "    .dataframe thead th {\n",
       "        text-align: right;\n",
       "    }\n",
       "</style>\n",
       "<table border=\"1\" class=\"dataframe\">\n",
       "  <thead>\n",
       "    <tr style=\"text-align: right;\">\n",
       "      <th></th>\n",
       "      <th>TimeFrameImdex</th>\n",
       "      <th>Price</th>\n",
       "    </tr>\n",
       "  </thead>\n",
       "  <tbody>\n",
       "    <tr>\n",
       "      <th>0</th>\n",
       "      <td>5</td>\n",
       "      <td>1009</td>\n",
       "    </tr>\n",
       "    <tr>\n",
       "      <th>1</th>\n",
       "      <td>6</td>\n",
       "      <td>1009</td>\n",
       "    </tr>\n",
       "  </tbody>\n",
       "</table>\n",
       "</div>"
      ],
      "text/plain": [
       "   TimeFrameImdex  Price\n",
       "0               5   1009\n",
       "1               6   1009"
      ]
     },
     "execution_count": 36,
     "metadata": {},
     "output_type": "execute_result"
    }
   ],
   "source": [
    "dfPeaksIndicator\n"
   ]
  },
  {
   "cell_type": "code",
   "execution_count": 10,
   "metadata": {},
   "outputs": [
    {
     "name": "stdout",
     "output_type": "stream",
     "text": [
      "Last Resistances, WEEKLY, DAILY for :AAL\n",
      "2020-06-05:22.8\n",
      "2020-06-05:22.8\n",
      "Last Support, WEEKLY, DAILY for :AAL\n",
      "2019-01-04:28.81\n",
      "2020-05-29:10.32\n",
      "(1259, 9)\n",
      "(1259, 3)\n",
      "68\n",
      "64\n",
      "68\n",
      "Sma daily:13.314400000000065\n",
      "macddf daily:1258    0.099423\n",
      "Name: MACD_8_21_9, dtype: float64\n",
      "rsidf daily:56.2906325890733\n"
     ]
    }
   ],
   "source": [
    "for contract in ib_trader_contracts: \n",
    "\n",
    "    # WEEKLY  \n",
    "    file_data = getFile(contract.symbol,SETTINGS_REALPATH_STOCK_DATA_WEEK)\n",
    "    dfWeekly = pd.read_csv(file_data)\n",
    "    dfWeekly_original = dfWeekly.copy()\n",
    "    #if necessary convert to datetime\n",
    "    dfWeekly.date = pd.to_datetime(dfWeekly.date)    \n",
    "    dfWeekly = dfWeekly[['date', 'open', 'high', 'low', 'close']]\n",
    "    dfWeekly[\"date\"] = dfWeekly[\"date\"].apply(mpl_dates.date2num)\n",
    "\n",
    "\n",
    "     # DAILY  \n",
    "    file_data = getFile(contract.symbol,SETTINGS_REALPATH_STOCK_DATA_DAY)\n",
    "    dfDaily = pd.read_csv(file_data)\n",
    "    dfDaily_original = dfDaily.copy()\n",
    "    #if necessary convert to datetime\n",
    "    dfDaily.date = pd.to_datetime(dfDaily.date)    \n",
    "    dfDaily = dfDaily[['date', 'open', 'high', 'low', 'close']]\n",
    "    dfDaily[\"date\"] = dfDaily[\"date\"].apply(mpl_dates.date2num)\n",
    "\n",
    "\n",
    "    support_levels_weekly, resistance_levels_weekly = getSupportResistances(dfWeekly)\n",
    "    support_levels_daily, resistance_levels_daily = getSupportResistances(dfDaily)\n",
    "\n",
    "    \n",
    "    \n",
    "    \n",
    "    print (\"Last Resistances, WEEKLY, DAILY for :\"  + contract.symbol)\n",
    "    print (dfWeekly_original.iloc[resistance_levels_weekly[-1][0]][\"date\"] + \":\" + str(dfWeekly_original.iloc[resistance_levels_weekly[-1][0]][\"high\"]))\n",
    "    print (dfDaily_original.iloc[resistance_levels_daily[-1][0]][\"date\"] + \":\" + str(dfDaily_original.iloc[resistance_levels_daily[-1][0]][\"high\"]))\n",
    "    \n",
    "    print (\"Last Support, WEEKLY, DAILY for :\"  + contract.symbol)\n",
    "    print (dfWeekly_original.iloc[support_levels_weekly[-1][0]][\"date\"] + \":\" +  str(dfWeekly_original.iloc[support_levels_weekly[-1][0]][\"low\"]))\n",
    "    print (dfDaily_original.iloc[support_levels_daily[-1][0]][\"date\"] + \":\" +  str(dfDaily_original.iloc[support_levels_daily[-1][0]][\"low\"]))\n",
    "\n",
    "    # pd.DataFrame().ta.indicators()\n",
    "    \n",
    "    dfsma =  dfDaily.ta.sma(length=50, append=True)\n",
    "    macddf = dfDaily.ta.macd(fast=8, slow=21, signal=9, min_periods=None, append=True)\n",
    "    rsidf = dfDaily.ta.rsi(length=14, append=True)\n",
    "    #efidf =  dfDaily.ta.efi(length=2, append=True)\n",
    "    valley_levels_macd\n",
    "    peak_levels_macd,valley_levels_macd = getPeaksValleys(macddf,\"MACD_8_21_9\")\n",
    "    print (dfDaily_original.shape)\n",
    "    print (macddf.shape)\n",
    "    print (len(valley_levels_macd))\n",
    "    print (len(peak_levels_macd))\n",
    "    print (len(valley_levels_macd))\n",
    "    \n",
    "\n",
    "    print (\"Sma daily:\" + str(dfsma[dfsma.size-1]))  \n",
    "    print (\"macddf daily:\"+ str( macddf[-1:][\"MACD_8_21_9\"])  )\n",
    "    print (\"rsidf daily:\"+ str( rsidf[rsidf.size-1]))  \n",
    "    #print (\"efidf daily:\" + str(efidf[dfsma.size-1])) \n",
    "    # \n",
    "    \n"
   ]
  },
  {
   "cell_type": "code",
   "execution_count": null,
   "metadata": {},
   "outputs": [],
   "source": []
  }
 ],
 "metadata": {
  "kernelspec": {
   "display_name": "Python 3",
   "language": "python",
   "name": "python3"
  },
  "language_info": {
   "codemirror_mode": {
    "name": "ipython",
    "version": 3
   },
   "file_extension": ".py",
   "mimetype": "text/x-python",
   "name": "python",
   "nbconvert_exporter": "python",
   "pygments_lexer": "ipython3",
   "version": "3.7.1"
  }
 },
 "nbformat": 4,
 "nbformat_minor": 2
}
