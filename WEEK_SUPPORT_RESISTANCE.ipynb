{
 "cells": [
  {
   "cell_type": "code",
   "execution_count": 57,
   "metadata": {},
   "outputs": [],
   "source": [
    "from ib_insync import *\n",
    "from  configuration.ibtrader_functions import *\n",
    "from  configuration.ibtrader_settings import * \n",
    "from  configuration.ibtrader_stocks import * \n",
    "from mpl_finance import candlestick_ohlc\n",
    "import matplotlib.dates as mpl_dates\n",
    "import matplotlib.pyplot as plt\n",
    "import pandas_ta as ta\n",
    "\n",
    "\n",
    "plt.rcParams['figure.figsize'] = [12, 7]\n",
    "\n",
    "plt.rc('font', size=14)\n"
   ]
  },
  {
   "cell_type": "code",
   "execution_count": 58,
   "metadata": {},
   "outputs": [
    {
     "name": "stdout",
     "output_type": "stream",
     "text": [
      "C:\\Users\\DAVIDNEVADO\\git\\py_ibtrader\\data/DAY/CTXS_*.csv\n"
     ]
    }
   ],
   "source": [
    "# WEEKLY  \n",
    "df = pd.read_csv(getFile(\"CTXS\",SETTINGS_REALPATH_STOCK_DATA_DAY))"
   ]
  },
  {
   "cell_type": "code",
   "execution_count": 61,
   "metadata": {},
   "outputs": [
    {
     "name": "stdout",
     "output_type": "stream",
     "text": [
      "pandas.ta - Technical Analysis Indicators - v0.1.66b\n",
      "Total Indicators: 107\n",
      "Abbreviations:\n",
      "    aberration, above, above_value, accbands, ad, adosc, adx, amat, ao, aobv, apo, aroon, atr, bbands, below, below_value, bias, bop, brar, cci, cg, chop, cksp, cmf, cmo, coppock, cross, cross_value, decreasing, dema, donchian, dpo, efi, ema, entropy, eom, fisher, fwma, ha, hl2, hlc3, hma, ichimoku, increasing, kama, kc, kdj, kst, kurtosis, linear_decay, linreg, log_return, long_run, macd, mad, massi, median, mfi, midpoint, midprice, mom, natr, nvi, obv, ohlc4, pdist, percent_return, ppo, psar, psl, pvi, pvol, pvt, pwma, qstick, quantile, rma, roc, rsi, rvi, short_run, sinwma, skew, slope, sma, stdev, stoch, supertrend, swma, t3, tema, trend_return, trima, trix, true_range, tsi, uo, variance, vortex, vp, vwap, vwma, wcp, willr, wma, zlma, zscore\n"
     ]
    }
   ],
   "source": [
    "pd.DataFrame().ta.indicators()"
   ]
  },
  {
   "cell_type": "code",
   "execution_count": 103,
   "metadata": {},
   "outputs": [],
   "source": [
    "dfsma = df.ta.sma(length=10, append=True)\n",
    "macddf = df.ta.macd(fast=8, slow=21, signal=9, min_periods=None, append=True)\n",
    "efidf = df.ta.efi(length=2, append=True)\n",
    "\n"
   ]
  },
  {
   "cell_type": "code",
   "execution_count": 107,
   "metadata": {},
   "outputs": [
    {
     "data": {
      "text/plain": [
       "1258   -2.983756\n",
       "Name: MACD_8_21_9, dtype: float64"
      ]
     },
     "execution_count": 107,
     "metadata": {},
     "output_type": "execute_result"
    }
   ],
   "source": []
  },
  {
   "cell_type": "code",
   "execution_count": 82,
   "metadata": {},
   "outputs": [
    {
     "data": {
      "text/plain": [
       "0           NaN\n",
       "1           NaN\n",
       "2           NaN\n",
       "3           NaN\n",
       "4           NaN\n",
       "         ...   \n",
       "1254    146.461\n",
       "1255    144.144\n",
       "1256    141.693\n",
       "1257    141.218\n",
       "1258    141.083\n",
       "Name: SMA_10, Length: 1259, dtype: float64"
      ]
     },
     "execution_count": 82,
     "metadata": {},
     "output_type": "execute_result"
    }
   ],
   "source": [
    "dfsma"
   ]
  },
  {
   "cell_type": "code",
   "execution_count": 75,
   "metadata": {},
   "outputs": [
    {
     "data": {
      "text/html": [
       "<div>\n",
       "<style scoped>\n",
       "    .dataframe tbody tr th:only-of-type {\n",
       "        vertical-align: middle;\n",
       "    }\n",
       "\n",
       "    .dataframe tbody tr th {\n",
       "        vertical-align: top;\n",
       "    }\n",
       "\n",
       "    .dataframe thead th {\n",
       "        text-align: right;\n",
       "    }\n",
       "</style>\n",
       "<table border=\"1\" class=\"dataframe\">\n",
       "  <thead>\n",
       "    <tr style=\"text-align: right;\">\n",
       "      <th></th>\n",
       "      <th>MACD_8_21_9</th>\n",
       "      <th>MACDH_8_21_9</th>\n",
       "      <th>MACDS_8_21_9</th>\n",
       "    </tr>\n",
       "  </thead>\n",
       "  <tbody>\n",
       "    <tr>\n",
       "      <th>0</th>\n",
       "      <td>NaN</td>\n",
       "      <td>NaN</td>\n",
       "      <td>NaN</td>\n",
       "    </tr>\n",
       "    <tr>\n",
       "      <th>1</th>\n",
       "      <td>NaN</td>\n",
       "      <td>NaN</td>\n",
       "      <td>NaN</td>\n",
       "    </tr>\n",
       "    <tr>\n",
       "      <th>2</th>\n",
       "      <td>NaN</td>\n",
       "      <td>NaN</td>\n",
       "      <td>NaN</td>\n",
       "    </tr>\n",
       "    <tr>\n",
       "      <th>3</th>\n",
       "      <td>NaN</td>\n",
       "      <td>NaN</td>\n",
       "      <td>NaN</td>\n",
       "    </tr>\n",
       "    <tr>\n",
       "      <th>4</th>\n",
       "      <td>NaN</td>\n",
       "      <td>NaN</td>\n",
       "      <td>NaN</td>\n",
       "    </tr>\n",
       "    <tr>\n",
       "      <th>...</th>\n",
       "      <td>...</td>\n",
       "      <td>...</td>\n",
       "      <td>...</td>\n",
       "    </tr>\n",
       "    <tr>\n",
       "      <th>1254</th>\n",
       "      <td>-3.408836</td>\n",
       "      <td>-2.378783</td>\n",
       "      <td>-1.030053</td>\n",
       "    </tr>\n",
       "    <tr>\n",
       "      <th>1255</th>\n",
       "      <td>-3.219728</td>\n",
       "      <td>-1.751740</td>\n",
       "      <td>-1.467988</td>\n",
       "    </tr>\n",
       "    <tr>\n",
       "      <th>1256</th>\n",
       "      <td>-3.020970</td>\n",
       "      <td>-1.242386</td>\n",
       "      <td>-1.778584</td>\n",
       "    </tr>\n",
       "    <tr>\n",
       "      <th>1257</th>\n",
       "      <td>-3.062334</td>\n",
       "      <td>-1.027000</td>\n",
       "      <td>-2.035334</td>\n",
       "    </tr>\n",
       "    <tr>\n",
       "      <th>1258</th>\n",
       "      <td>-2.983756</td>\n",
       "      <td>-0.758737</td>\n",
       "      <td>-2.225019</td>\n",
       "    </tr>\n",
       "  </tbody>\n",
       "</table>\n",
       "<p>1259 rows × 3 columns</p>\n",
       "</div>"
      ],
      "text/plain": [
       "      MACD_8_21_9  MACDH_8_21_9  MACDS_8_21_9\n",
       "0             NaN           NaN           NaN\n",
       "1             NaN           NaN           NaN\n",
       "2             NaN           NaN           NaN\n",
       "3             NaN           NaN           NaN\n",
       "4             NaN           NaN           NaN\n",
       "...           ...           ...           ...\n",
       "1254    -3.408836     -2.378783     -1.030053\n",
       "1255    -3.219728     -1.751740     -1.467988\n",
       "1256    -3.020970     -1.242386     -1.778584\n",
       "1257    -3.062334     -1.027000     -2.035334\n",
       "1258    -2.983756     -0.758737     -2.225019\n",
       "\n",
       "[1259 rows x 3 columns]"
      ]
     },
     "execution_count": 75,
     "metadata": {},
     "output_type": "execute_result"
    }
   ],
   "source": []
  },
  {
   "cell_type": "code",
   "execution_count": 76,
   "metadata": {},
   "outputs": [
    {
     "data": {
      "text/plain": [
       "0                NaN\n",
       "1                NaN\n",
       "2       20466.048750\n",
       "3       11000.645769\n",
       "4       10197.364875\n",
       "            ...     \n",
       "1254   -18303.548614\n",
       "1255     8931.337129\n",
       "1256     2977.112376\n",
       "1257    -5639.262541\n",
       "1258     -473.920847\n",
       "Name: EFI_2, Length: 1259, dtype: float64"
      ]
     },
     "execution_count": 76,
     "metadata": {},
     "output_type": "execute_result"
    }
   ],
   "source": [
    "efidf"
   ]
  },
  {
   "cell_type": "code",
   "execution_count": 50,
   "metadata": {},
   "outputs": [
    {
     "name": "stderr",
     "output_type": "stream",
     "text": [
      "D:\\MachineLearning\\Anaconda\\lib\\site-packages\\ipykernel_launcher.py:5: SettingWithCopyWarning: \n",
      "A value is trying to be set on a copy of a slice from a DataFrame.\n",
      "Try using .loc[row_indexer,col_indexer] = value instead\n",
      "\n",
      "See the caveats in the documentation: https://pandas.pydata.org/pandas-docs/stable/user_guide/indexing.html#returning-a-view-versus-a-copy\n",
      "  \"\"\"\n"
     ]
    }
   ],
   "source": [
    "#if necessary convert to datetime\n",
    "df.date = pd.to_datetime(df.date)\n",
    "\n",
    "df = df[['date', 'open', 'high', 'low', 'close']]\n",
    "df[\"date\"] = df[\"date\"].apply(mpl_dates.date2num)"
   ]
  },
  {
   "cell_type": "code",
   "execution_count": 51,
   "metadata": {},
   "outputs": [
    {
     "data": {
      "text/html": [
       "<div>\n",
       "<style scoped>\n",
       "    .dataframe tbody tr th:only-of-type {\n",
       "        vertical-align: middle;\n",
       "    }\n",
       "\n",
       "    .dataframe tbody tr th {\n",
       "        vertical-align: top;\n",
       "    }\n",
       "\n",
       "    .dataframe thead th {\n",
       "        text-align: right;\n",
       "    }\n",
       "</style>\n",
       "<table border=\"1\" class=\"dataframe\">\n",
       "  <thead>\n",
       "    <tr style=\"text-align: right;\">\n",
       "      <th></th>\n",
       "      <th>date</th>\n",
       "      <th>open</th>\n",
       "      <th>high</th>\n",
       "      <th>low</th>\n",
       "      <th>close</th>\n",
       "    </tr>\n",
       "  </thead>\n",
       "  <tbody>\n",
       "    <tr>\n",
       "      <th>0</th>\n",
       "      <td>735820.0</td>\n",
       "      <td>60.445</td>\n",
       "      <td>60.695</td>\n",
       "      <td>59.955</td>\n",
       "      <td>60.620</td>\n",
       "    </tr>\n",
       "    <tr>\n",
       "      <th>1</th>\n",
       "      <td>735821.0</td>\n",
       "      <td>60.290</td>\n",
       "      <td>60.400</td>\n",
       "      <td>59.330</td>\n",
       "      <td>59.880</td>\n",
       "    </tr>\n",
       "    <tr>\n",
       "      <th>2</th>\n",
       "      <td>735822.0</td>\n",
       "      <td>59.635</td>\n",
       "      <td>61.125</td>\n",
       "      <td>59.055</td>\n",
       "      <td>60.855</td>\n",
       "    </tr>\n",
       "    <tr>\n",
       "      <th>3</th>\n",
       "      <td>735823.0</td>\n",
       "      <td>61.075</td>\n",
       "      <td>61.395</td>\n",
       "      <td>60.330</td>\n",
       "      <td>61.155</td>\n",
       "    </tr>\n",
       "    <tr>\n",
       "      <th>4</th>\n",
       "      <td>735824.0</td>\n",
       "      <td>61.250</td>\n",
       "      <td>62.145</td>\n",
       "      <td>60.975</td>\n",
       "      <td>61.755</td>\n",
       "    </tr>\n",
       "    <tr>\n",
       "      <th>...</th>\n",
       "      <td>...</td>\n",
       "      <td>...</td>\n",
       "      <td>...</td>\n",
       "      <td>...</td>\n",
       "      <td>...</td>\n",
       "    </tr>\n",
       "    <tr>\n",
       "      <th>1254</th>\n",
       "      <td>737640.0</td>\n",
       "      <td>143.120</td>\n",
       "      <td>143.440</td>\n",
       "      <td>139.300</td>\n",
       "      <td>139.850</td>\n",
       "    </tr>\n",
       "    <tr>\n",
       "      <th>1255</th>\n",
       "      <td>737641.0</td>\n",
       "      <td>138.850</td>\n",
       "      <td>142.750</td>\n",
       "      <td>137.800</td>\n",
       "      <td>142.640</td>\n",
       "    </tr>\n",
       "    <tr>\n",
       "      <th>1256</th>\n",
       "      <td>737642.0</td>\n",
       "      <td>142.750</td>\n",
       "      <td>142.780</td>\n",
       "      <td>140.150</td>\n",
       "      <td>142.640</td>\n",
       "    </tr>\n",
       "    <tr>\n",
       "      <th>1257</th>\n",
       "      <td>737643.0</td>\n",
       "      <td>142.290</td>\n",
       "      <td>142.980</td>\n",
       "      <td>140.150</td>\n",
       "      <td>140.790</td>\n",
       "    </tr>\n",
       "    <tr>\n",
       "      <th>1258</th>\n",
       "      <td>737644.0</td>\n",
       "      <td>141.030</td>\n",
       "      <td>143.320</td>\n",
       "      <td>140.320</td>\n",
       "      <td>141.140</td>\n",
       "    </tr>\n",
       "  </tbody>\n",
       "</table>\n",
       "<p>1259 rows × 5 columns</p>\n",
       "</div>"
      ],
      "text/plain": [
       "          date     open     high      low    close\n",
       "0     735820.0   60.445   60.695   59.955   60.620\n",
       "1     735821.0   60.290   60.400   59.330   59.880\n",
       "2     735822.0   59.635   61.125   59.055   60.855\n",
       "3     735823.0   61.075   61.395   60.330   61.155\n",
       "4     735824.0   61.250   62.145   60.975   61.755\n",
       "...        ...      ...      ...      ...      ...\n",
       "1254  737640.0  143.120  143.440  139.300  139.850\n",
       "1255  737641.0  138.850  142.750  137.800  142.640\n",
       "1256  737642.0  142.750  142.780  140.150  142.640\n",
       "1257  737643.0  142.290  142.980  140.150  140.790\n",
       "1258  737644.0  141.030  143.320  140.320  141.140\n",
       "\n",
       "[1259 rows x 5 columns]"
      ]
     },
     "execution_count": 51,
     "metadata": {},
     "output_type": "execute_result"
    }
   ],
   "source": [
    "df"
   ]
  },
  {
   "cell_type": "code",
   "execution_count": 52,
   "metadata": {},
   "outputs": [],
   "source": [
    "s =  np.mean(df['high'] - df['low'])"
   ]
  },
  {
   "cell_type": "code",
   "execution_count": 53,
   "metadata": {},
   "outputs": [],
   "source": [
    "def isFarFromLevel(l):\n",
    "   return np.sum([abs(l-x) < s  for x in levels]) == 0"
   ]
  },
  {
   "cell_type": "code",
   "execution_count": 54,
   "metadata": {},
   "outputs": [],
   "source": [
    "levels = []\n",
    "for i in range(2,df.shape[0]-2):\n",
    "  if isSupport(df,i):\n",
    "    l = df['low'][i]\n",
    "    if isFarFromLevel(l):\n",
    "      levels.append((i,l))\n",
    "  elif isResistance(df,i):\n",
    "    l = df['high'][i]\n",
    "    if isFarFromLevel(l):\n",
    "      levels.append((i,l))"
   ]
  },
  {
   "cell_type": "code",
   "execution_count": null,
   "metadata": {},
   "outputs": [],
   "source": []
  },
  {
   "cell_type": "code",
   "execution_count": 55,
   "metadata": {},
   "outputs": [
    {
     "data": {
      "text/plain": [
       "[(2, 59.055),\n",
       " (7, 62.445),\n",
       " (11, 52.675),\n",
       " (30, 56.69),\n",
       " (63, 66.21),\n",
       " (112, 50.575),\n",
       " (205, 68.92),\n",
       " (303, 71.54),\n",
       " (346, 73.475),\n",
       " (368, 76.365),\n",
       " (386, 81.1),\n",
       " (394, 78.88),\n",
       " (409, 84.75),\n",
       " (575, 87.49),\n",
       " (621, 94.94),\n",
       " (645, 89.75),\n",
       " (652, 96.96),\n",
       " (699, 104.7),\n",
       " (711, 109.43),\n",
       " (744, 107.28),\n",
       " (746, 116.82),\n",
       " (801, 101.05),\n",
       " (1082, 114.73),\n",
       " (1121, 130.55),\n",
       " (1127, 120.69),\n",
       " (1130, 124.12),\n",
       " (1160, 141.01),\n",
       " (1176, 138.41),\n",
       " (1186, 148.7),\n",
       " (1204, 135.05),\n",
       " (1217, 143.59),\n",
       " (1246, 173.56)]"
      ]
     },
     "execution_count": 55,
     "metadata": {},
     "output_type": "execute_result"
    }
   ],
   "source": [
    "levels"
   ]
  },
  {
   "cell_type": "code",
   "execution_count": 56,
   "metadata": {},
   "outputs": [
    {
     "name": "stderr",
     "output_type": "stream",
     "text": [
      "D:\\MachineLearning\\Anaconda\\lib\\site-packages\\matplotlib\\figure.py:445: UserWarning: Matplotlib is currently using module://ipykernel.pylab.backend_inline, which is a non-GUI backend, so cannot show the figure.\n",
      "  % get_backend())\n"
     ]
    },
    {
     "data": {
      "image/png": "[encoded data removed]",
      "text/plain": [
       "<Figure size 864x504 with 1 Axes>"
      ]
     },
     "metadata": {
      "needs_background": "light"
     },
     "output_type": "display_data"
    }
   ],
   "source": [
    "fig, ax = plt.subplots()\n",
    "\n",
    "candlestick_ohlc(ax,df.values,width=0.6, \\\n",
    "               colorup='green', colordown='red', alpha=0.8)\n",
    "\n",
    "date_format = mpl_dates.DateFormatter('%d %b %Y')\n",
    "ax.xaxis.set_major_formatter(date_format)\n",
    "fig.autofmt_xdate()\n",
    "\n",
    "fig.tight_layout()\n",
    "\n",
    "for level in levels:\n",
    "    plt.hlines(level[1],xmin=df['date'][level[0]],\\\n",
    "               xmax=max(df['date']),colors='blue')\n",
    "\n",
    "fig.show()"
   ]
  },
  {
   "cell_type": "code",
   "execution_count": null,
   "metadata": {},
   "outputs": [],
   "source": []
  }
 ],
 "metadata": {
  "kernelspec": {
   "display_name": "Python 3",
   "language": "python",
   "name": "python3"
  },
  "language_info": {
   "codemirror_mode": {
    "name": "ipython",
    "version": 3
   },
   "file_extension": ".py",
   "mimetype": "text/x-python",
   "name": "python",
   "nbconvert_exporter": "python",
   "pygments_lexer": "ipython3",
   "version": "3.7.1"
  }
 },
 "nbformat": 4,
 "nbformat_minor": 2
}
